{
 "cells": [
  {
   "cell_type": "code",
   "execution_count": 1,
   "id": "initial_id",
   "metadata": {
    "ExecuteTime": {
     "end_time": "2024-11-25T17:20:39.829679Z",
     "start_time": "2024-11-25T17:20:39.567312Z"
    },
    "collapsed": true
   },
   "outputs": [],
   "source": [
    "import pandas as pd\n",
    "import numpy as np\n",
    "from sklearn.metrics.pairwise import cosine_similarity\n",
    "from tqdm import tqdm\n",
    "import warnings\n",
    "warnings.filterwarnings(\"ignore\")\n",
    "import tensorflow as tf\n",
    "import random"
   ]
  },
  {
   "cell_type": "code",
   "execution_count": 2,
   "id": "259631fd871ebe3c",
   "metadata": {
    "ExecuteTime": {
     "end_time": "2024-11-25T17:21:01.853598Z",
     "start_time": "2024-11-25T17:20:54.922970Z"
    }
   },
   "outputs": [],
   "source": [
    "interactions = pd.read_csv(\"processed_data/interactions_train.csv\")\n",
    "interactions_test = pd.read_csv(\"processed_data/interactions_valid.csv\")\n",
    "item_popularity = pd.read_csv(\"processed_data/popularity_item.csv\")\n",
    "user_popularity = pd.read_csv(\"processed_data/popularity_user.csv\")\n",
    "product_features = pd.read_csv(\"processed_data/product_features.csv\")"
   ]
  },
  {
   "cell_type": "code",
   "execution_count": 9,
   "id": "10eb657d",
   "metadata": {},
   "outputs": [
    {
     "data": {
      "text/plain": [
       "(145807, 23)"
      ]
     },
     "execution_count": 9,
     "metadata": {},
     "output_type": "execute_result"
    }
   ],
   "source": [
    "interactions.shape"
   ]
  },
  {
   "cell_type": "code",
   "execution_count": 3,
   "id": "66383170",
   "metadata": {},
   "outputs": [
    {
     "data": {
      "text/plain": [
       "889"
      ]
     },
     "execution_count": 3,
     "metadata": {},
     "output_type": "execute_result"
    }
   ],
   "source": [
    "len(set(interactions['visitorid'].unique()) & set(interactions_test['visitorid'].unique()))"
   ]
  },
  {
   "cell_type": "code",
   "execution_count": 19,
   "id": "7a42224c",
   "metadata": {},
   "outputs": [],
   "source": [
    "interactions_test = interactions_test[interactions_test['visitorid'].isin(interactions['visitorid'].unique())]"
   ]
  },
  {
   "cell_type": "code",
   "execution_count": 5,
   "id": "e1cc2026",
   "metadata": {},
   "outputs": [
    {
     "data": {
      "text/plain": [
       "89010"
      ]
     },
     "execution_count": 5,
     "metadata": {},
     "output_type": "execute_result"
    }
   ],
   "source": [
    "interactions['visitorid'].nunique()"
   ]
  },
  {
   "cell_type": "markdown",
   "id": "c4ba793f",
   "metadata": {},
   "source": [
    "## Recently Viewed items"
   ]
  },
  {
   "cell_type": "code",
   "execution_count": 20,
   "id": "74377156",
   "metadata": {},
   "outputs": [],
   "source": [
    "recently_interacted = interactions.sort_values(by=['visitorid', 'timestamp'], ascending=[True, False])\n",
    "top_recently_interacted = recently_interacted.groupby('visitorid')['itemid'].apply(set).reset_index()"
   ]
  },
  {
   "cell_type": "code",
   "execution_count": 21,
   "id": "95c59511",
   "metadata": {},
   "outputs": [],
   "source": [
    "all_interactions = pd.concat([interactions, interactions_test])\n",
    "relevant_items = all_interactions.groupby('visitorid')['itemid'].apply(set).reset_index()\n",
    "relevant_items.columns = ['visitorid', 'relevant_items']\n",
    "test_interactions = interactions_test.groupby('visitorid')['itemid'].apply(set).reset_index()\n",
    "test_interactions.columns = ['visitorid', 'test_items']\n",
    "test_interactions = test_interactions.merge(relevant_items, on='visitorid', how='left')\n",
    "test_interactions.drop(columns=['test_items'], inplace=True)"
   ]
  },
  {
   "cell_type": "code",
   "execution_count": 22,
   "id": "7fa272fc",
   "metadata": {},
   "outputs": [],
   "source": [
    "test_interactions = test_interactions.merge(top_recently_interacted, on='visitorid',how='left')\n",
    "test_interactions.rename(columns={'itemid':'RVI_predicted'}, inplace= True) "
   ]
  },
  {
   "cell_type": "code",
   "execution_count": 8,
   "id": "3e15a2f9",
   "metadata": {},
   "outputs": [],
   "source": [
    "def precision_at_k(relevant, predicted, k=10):\n",
    "    if isinstance(predicted, set):\n",
    "        predicted = list(predicted)\n",
    "    predicted = predicted[:k]\n",
    "    hits = len(set(predicted) & relevant)\n",
    "    return hits / k\n",
    "\n",
    "def recall_at_k(relevant, predicted, k=10):\n",
    "    if isinstance(predicted, set):\n",
    "        predicted = list(predicted)\n",
    "    predicted = predicted[:k]\n",
    "    hits = len(set(predicted) & relevant)\n",
    "    if len(relevant)==0:\n",
    "        return 0\n",
    "    return hits/len(relevant)"
   ]
  },
  {
   "cell_type": "code",
   "execution_count": 24,
   "id": "76f87d3a",
   "metadata": {},
   "outputs": [
    {
     "name": "stdout",
     "output_type": "stream",
     "text": [
      "Precision@1: 1.0 Recall@1: 0.5168365248264494\n",
      "Precision@5: 0.3631046119235096 Recall@5: 0.6474314888574894\n",
      "Precision@10: 0.2205849268841395 Recall@10: 0.6681412713221907\n",
      "Precision@20: 0.13053993250843643 Recall@20: 0.6795546418410727\n",
      "Precision@50: 0.06357705286839145 Recall@50: 0.6867884687660509\n"
     ]
    }
   ],
   "source": [
    "for k in [1,5,10,20,50]:\n",
    "    test_interactions['precision'] = test_interactions.apply(lambda row: precision_at_k(row['relevant_items'], row['RVI_predicted'], k), axis=1)\n",
    "    test_interactions['recall'] = test_interactions.apply(lambda row: recall_at_k(row['relevant_items'], row['RVI_predicted'], k), axis=1)\n",
    "    print(f'Precision@{k}:', np.mean(test_interactions['precision']),f'Recall@{k}:', np.mean(test_interactions['recall']))"
   ]
  },
  {
   "cell_type": "markdown",
   "id": "9186e723",
   "metadata": {},
   "source": [
    "## Baseline Model: Recommend the most popular 50 items"
   ]
  },
  {
   "cell_type": "code",
   "execution_count": 25,
   "id": "7bbe6773",
   "metadata": {},
   "outputs": [],
   "source": [
    "top_items = item_popularity.sort_values(by='number_of_views', ascending=False)\n",
    "top_popular_items = top_items['itemid'].head(50).tolist()"
   ]
  },
  {
   "cell_type": "code",
   "execution_count": 26,
   "id": "32cd6cb1",
   "metadata": {},
   "outputs": [],
   "source": [
    "train_interactions = interactions.groupby('visitorid')['itemid'].apply(set)\n",
    "test_interactions['items_seen'] = test_interactions['visitorid'].apply(lambda x: train_interactions[x] if x in train_interactions.index else {})\n",
    "test_interactions['relevant_items_unseen'] = test_interactions.apply(lambda row: row['relevant_items'] - row['items_seen'], axis=1)"
   ]
  },
  {
   "cell_type": "code",
   "execution_count": 28,
   "id": "9577948d",
   "metadata": {},
   "outputs": [
    {
     "name": "stdout",
     "output_type": "stream",
     "text": [
      "Precision@1: 0.03262092238470191 Recall@1: 0.005971973170736153\n",
      "Precision@5: 0.01822272215973004 Recall@5: 0.021588325564663398\n",
      "Precision@10: 0.01372328458942632 Recall@10: 0.035443115935966496\n",
      "Precision@20: 0.011754780652418449 Recall@20: 0.060273105797464574\n",
      "Precision@50: 0.008391451068616424 Recall@50: 0.10371207243828037\n"
     ]
    }
   ],
   "source": [
    "for k in [1,5,10,20,50]:\n",
    "    test_interactions['precision'] = test_interactions['relevant_items'].apply(lambda x: precision_at_k(x, top_popular_items,k))\n",
    "    test_interactions['recall'] = test_interactions['relevant_items'].apply(lambda x: recall_at_k(x, top_popular_items,k))\n",
    "    print(f'Precision@{k}:', np.mean(test_interactions['precision']),f'Recall@{k}:', np.mean(test_interactions['recall']))"
   ]
  },
  {
   "cell_type": "code",
   "execution_count": 29,
   "id": "22f980e9",
   "metadata": {},
   "outputs": [
    {
     "name": "stdout",
     "output_type": "stream",
     "text": [
      "Precision@1 on unseen: 0.0 Recall@1 on unseen: 0.0\n",
      "Precision@5 on unseen: 0.0044994375703037125 Recall@5 on unseen: 0.009488969742144937\n",
      "Precision@10 on unseen: 0.003374578177727784 Recall@10 on unseen: 0.01358818560103214\n",
      "Precision@20 on unseen: 0.00343082114735658 Recall@20 on unseen: 0.02486356575621193\n",
      "Precision@50 on unseen: 0.0024296962879640045 Recall@50 on unseen: 0.05054421084327059\n"
     ]
    }
   ],
   "source": [
    "for k in [1,5,10,20,50]:\n",
    "    test_interactions['precision'] = test_interactions.apply(lambda row: precision_at_k(row['relevant_items_unseen'], list(set(top_popular_items)-row['items_seen']),k),axis=1)\n",
    "    test_interactions['recall'] = test_interactions.apply(lambda row: recall_at_k(row['relevant_items_unseen'], list(set(top_popular_items)-row['items_seen']),k),axis=1)\n",
    "    print(f'Precision@{k} on unseen:', np.mean(test_interactions['precision']),f'Recall@{k} on unseen:', np.mean(test_interactions['recall']))"
   ]
  },
  {
   "cell_type": "markdown",
   "id": "27a90ca9",
   "metadata": {},
   "source": [
    "## User user collaborative Filtering"
   ]
  },
  {
   "cell_type": "code",
   "execution_count": null,
   "id": "259ba133",
   "metadata": {},
   "outputs": [],
   "source": [
    "from collections import defaultdict\n",
    "\n",
    "usersPerItem = defaultdict(set) # Maps an item to the users who has interacted with it\n",
    "itemsPerUser = defaultdict(set)\n",
    "\n",
    "for idx, row in interactions.iterrows():\n",
    "    user,item = row['visitorid'], row['itemid']\n",
    "    usersPerItem[item].add(user)\n",
    "    itemsPerUser[user].add(item)"
   ]
  },
  {
   "cell_type": "code",
   "execution_count": 31,
   "id": "f5daff3ea32ff0d4",
   "metadata": {
    "ExecuteTime": {
     "end_time": "2024-11-25T19:51:16.900895Z",
     "start_time": "2024-11-25T19:51:16.310807Z"
    }
   },
   "outputs": [],
   "source": [
    "user_item = pd.DataFrame(interactions.groupby(['visitorid','itemid'])['timestamp'].count().reset_index())\n",
    "user_wise_df = user_item.pivot(index='visitorid', columns='itemid', values='timestamp').fillna(0)\n"
   ]
  },
  {
   "cell_type": "code",
   "execution_count": 32,
   "id": "e39485b8",
   "metadata": {},
   "outputs": [],
   "source": [
    "user_id_to_index = {user_id: idx for idx, user_id in enumerate(user_wise_df.index)}\n",
    "index_to_user_id = {idx: user_id for user_id, idx in user_id_to_index.items()}\n",
    "item_id_to_index = {item_id: idx for idx, item_id in enumerate(user_wise_df.columns)}\n",
    "index_to_item_id = {idx: item_id for item_id, idx in item_id_to_index.items()}"
   ]
  },
  {
   "cell_type": "code",
   "execution_count": 33,
   "id": "d7fd0805",
   "metadata": {},
   "outputs": [],
   "source": [
    "from scipy import sparse\n",
    "sparse_user_wise_df = sparse.csr_matrix(user_wise_df )\n",
    "similarities = cosine_similarity(sparse_user_wise_df,dense_output=False)"
   ]
  },
  {
   "cell_type": "code",
   "execution_count": 34,
   "id": "c5429b5b5327fca1",
   "metadata": {
    "ExecuteTime": {
     "end_time": "2024-11-25T20:32:09.571957Z",
     "start_time": "2024-11-25T20:32:09.560824Z"
    }
   },
   "outputs": [],
   "source": [
    "import heapq\n",
    "def evaluate_user_collaborative(test_interactions,k=10):\n",
    "    recalls = []\n",
    "    precisions = []\n",
    "    recalls_unseen = []\n",
    "    precisions_unseen = []\n",
    "    \n",
    "    \n",
    "    for user, actual_items, actual_items_unseen in zip(test_interactions['visitorid'], test_interactions['relevant_items'], test_interactions['relevant_items_unseen']):\n",
    "        specific_user_index = user_id_to_index[user]\n",
    "        # Get nearest neighbors\n",
    "        user_similarities = similarities[specific_user_index].toarray().flatten()\n",
    "        top_similar_indices = heapq.nlargest(10, range(len(user_similarities)), key=lambda i: user_similarities[i])\n",
    "        similar_users = [index_to_user_id[idx] for idx in top_similar_indices][:10]\n",
    "\n",
    "        # Vectorized prediction for unseen items\n",
    "        predictions = user_wise_df.loc[similar_users].sum(axis=0)\n",
    "        predictions = predictions[predictions!=0]\n",
    "        unseen_items = list(set(predictions.index) - set(itemsPerUser[user]))\n",
    "        predictions_unseen = predictions[unseen_items]\n",
    "        \n",
    "        # Select top-k items\n",
    "        top_k_items = predictions.nlargest(k).index.tolist()\n",
    "        top_k_items_unseen = predictions_unseen.nlargest(k).index.tolist()\n",
    "        \n",
    "        # Compute precision and recall\n",
    "        recalls.append(recall_at_k(actual_items, top_k_items, k))\n",
    "        precisions.append(precision_at_k(actual_items, top_k_items, k))\n",
    "        if len(actual_items_unseen)!=0:\n",
    "            recalls_unseen.append(recall_at_k(actual_items_unseen, top_k_items_unseen, k))\n",
    "            precisions_unseen.append(precision_at_k(actual_items_unseen, top_k_items_unseen, k))\n",
    "    \n",
    "    return {\n",
    "        f'Precision@{k}': np.mean(precisions),\n",
    "        f'Recall@{k}': np.mean(recalls),\n",
    "        f'Precision@{k} on unseen': np.mean(precisions_unseen),\n",
    "        f'Recall@{k} on unseen': np.mean(recalls_unseen),\n",
    "    }"
   ]
  },
  {
   "cell_type": "code",
   "execution_count": 35,
   "id": "b926b490297c1ef9",
   "metadata": {
    "ExecuteTime": {
     "end_time": "2024-11-25T20:32:11.978439Z",
     "start_time": "2024-11-25T20:32:11.975959Z"
    }
   },
   "outputs": [
    {
     "name": "stdout",
     "output_type": "stream",
     "text": [
      "{'Precision@1': 0.9763779527559056, 'Recall@1': 0.5046773304400334, 'Precision@1 on unseen': 0.0, 'Recall@1 on unseen': 0.0}\n",
      "{'Precision@5': 0.3583802024746907, 'Recall@5': 0.6430921972671556, 'Precision@5 on unseen': 0.0009966777408637875, 'Recall@5 on unseen': 0.002558139534883721}\n",
      "{'Precision@10': 0.21833520809898765, 'Recall@10': 0.6662730413291676, 'Precision@10 on unseen': 0.0009966777408637873, 'Recall@10 on unseen': 0.0062126245847176085}\n",
      "{'Precision@20': 0.1294713160854893, 'Recall@20': 0.6805909093664554, 'Precision@20 on unseen': 0.0005813953488372094, 'Recall@20 on unseen': 0.006295681063122924}\n",
      "{'Precision@50': 0.063644544431946, 'Recall@50': 0.6888902893718084, 'Precision@50 on unseen': 0.0002325581395348837, 'Recall@50 on unseen': 0.006295681063122924}\n"
     ]
    }
   ],
   "source": [
    "for k in [1,5,10,20,50]:\n",
    "    print(evaluate_user_collaborative(test_interactions, k=k))"
   ]
  },
  {
   "cell_type": "markdown",
   "id": "e4709b9c",
   "metadata": {},
   "source": [
    "## Item item collaborative Filtering"
   ]
  },
  {
   "cell_type": "code",
   "execution_count": 36,
   "id": "a1343bbc",
   "metadata": {},
   "outputs": [],
   "source": [
    "sparse_item_wise_df = sparse.csr_matrix(user_wise_df.T) \n",
    "item_similarities = cosine_similarity(sparse_item_wise_df, dense_output=False)"
   ]
  },
  {
   "cell_type": "code",
   "execution_count": 38,
   "id": "903f5470",
   "metadata": {},
   "outputs": [],
   "source": [
    "def evaluate_item_collaborative(test_interactions, k=10):\n",
    "    recalls = []\n",
    "    precisions = []\n",
    "    recalls_unseen = []\n",
    "    precisions_unseen = []\n",
    "    \n",
    "    for user, actual_items, actual_items_unseen in zip(test_interactions['visitorid'], test_interactions['relevant_items'], test_interactions['relevant_items_unseen']):\n",
    "        seen_items = itemsPerUser[user]  \n",
    "        \n",
    "        # Generate predictions\n",
    "        predictions = pd.Series(dtype=float)\n",
    "        for item in seen_items:\n",
    "            specific_item_index = item_id_to_index[item]\n",
    "            item_similarities_row = item_similarities[specific_item_index].toarray().flatten()\n",
    "            \n",
    "            # Aggregate scores for items similar to the current item\n",
    "            similar_item_indices = np.argsort(item_similarities_row)[-10:]  # Top 10 similar items\n",
    "            for idx in similar_item_indices:\n",
    "                similar_item = index_to_item_id[idx]\n",
    "                if similar_item not in predictions:\n",
    "                    predictions[similar_item] = 0\n",
    "                predictions[similar_item] += item_similarities_row[idx]\n",
    "        \n",
    "        # Exclude items the user has already interacted with for unseen predictions\n",
    "        unseen_items = list(set(predictions.index) - set(seen_items))\n",
    "        predictions_unseen = predictions.loc[unseen_items]\n",
    "        \n",
    "        # Select top-k items\n",
    "        top_k_items = predictions.nlargest(k).index.tolist()\n",
    "        top_k_items_unseen = predictions_unseen.nlargest(k).index.tolist()\n",
    "        \n",
    "        # Compute precision and recall\n",
    "        recalls.append(recall_at_k(actual_items, top_k_items, k))\n",
    "        precisions.append(precision_at_k(actual_items, top_k_items, k))\n",
    "        if len(actual_items_unseen) != 0:\n",
    "            recalls_unseen.append(recall_at_k(actual_items_unseen, top_k_items_unseen, k))\n",
    "            precisions_unseen.append(precision_at_k(actual_items_unseen, top_k_items_unseen, k))\n",
    "    \n",
    "    return {\n",
    "        f'Precision@{k}': np.mean(precisions),\n",
    "        f'Recall@{k}': np.mean(recalls),\n",
    "        f'Precision@{k} on unseen': np.mean(precisions_unseen),\n",
    "        f'Recall@{k} on unseen': np.mean(recalls_unseen),\n",
    "    }"
   ]
  },
  {
   "cell_type": "code",
   "execution_count": 39,
   "id": "a0122d48",
   "metadata": {},
   "outputs": [
    {
     "name": "stdout",
     "output_type": "stream",
     "text": [
      "{'Precision@1': 0.9977502812148481, 'Recall@1': 0.5165735706827304, 'Precision@1 on unseen': 0.011627906976744186, 'Recall@1 on unseen': 0.005592469545957917}\n",
      "{'Precision@5': 0.3633295838020248, 'Recall@5': 0.6534620981589057, 'Precision@5 on unseen': 0.009634551495016613, 'Recall@5 on unseen': 0.027948504983388703}\n",
      "{'Precision@10': 0.2195725534308212, 'Recall@10': 0.6797623772671364, 'Precision@10 on unseen': 0.006644518272425249, 'Recall@10 on unseen': 0.041791251384274634}\n",
      "{'Precision@20': 0.1262654668166479, 'Recall@20': 0.6917278737386943, 'Precision@20 on unseen': 0.00398671096345515, 'Recall@20 on unseen': 0.04331180017226529}\n",
      "{'Precision@50': 0.060854893138357714, 'Recall@50': 0.7004087573176127, 'Precision@50 on unseen': 0.0018604651162790697, 'Recall@50 on unseen': 0.04779235484296628}\n"
     ]
    }
   ],
   "source": [
    "for k in [1,5,10,20,50]:\n",
    "    print(evaluate_item_collaborative(test_interactions, k=k))"
   ]
  },
  {
   "cell_type": "markdown",
   "id": "f1a8f97d",
   "metadata": {},
   "source": [
    "## Singular Value decomoposition"
   ]
  },
  {
   "cell_type": "code",
   "execution_count": 40,
   "id": "2b8d7131",
   "metadata": {},
   "outputs": [],
   "source": [
    "from scipy.sparse.linalg import svds \n",
    "# Singular Value Decomposition\n",
    "U, s, Vt = svds(sparse_user_wise_df, k = 50) # k is the number of latent features\n",
    "\n",
    "# Construct diagonal array in SVD\n",
    "sigma = np.diag(s)\n",
    "predicted_interactions = np.dot(np.dot(U, sigma), Vt) "
   ]
  },
  {
   "cell_type": "code",
   "execution_count": 41,
   "id": "e2620e7d",
   "metadata": {},
   "outputs": [],
   "source": [
    "def evaluate_svd(test_interactions,k=10):\n",
    "    recalls = []\n",
    "    precisions = []\n",
    "    recalls_unseen = []\n",
    "    precisions_unseen = []\n",
    "    \n",
    "    \n",
    "    for user, actual_items, actual_items_unseen in zip(test_interactions['visitorid'], test_interactions['relevant_items'], test_interactions['relevant_items_unseen']):\n",
    "        specific_user_index = user_id_to_index[user]\n",
    "\n",
    "        # Vectorized prediction for unseen items\n",
    "        predictions = predicted_interactions[specific_user_index]\n",
    "        seen_items = [item_id_to_index[id] for id in itemsPerUser[user]]\n",
    "        predictions_unseen = [v for i,v in enumerate(predictions) if i not in seen_items]\n",
    "        predictions = np.argsort(predictions)[-k:][::-1]\n",
    "        predictions_unseen = np.argsort(predictions_unseen)[-k:][::-1]\n",
    "        \n",
    "        # Select top-k items\n",
    "        top_k_items = [index_to_item_id[pred] for pred in predictions]\n",
    "        top_k_items_unseen = [index_to_item_id[pred] for pred in predictions_unseen]\n",
    "        \n",
    "        # Compute precision and recall\n",
    "        recalls.append(recall_at_k(actual_items, top_k_items, k))\n",
    "        precisions.append(precision_at_k(actual_items, top_k_items, k))\n",
    "        if len(actual_items_unseen)!=0:\n",
    "            recalls_unseen.append(recall_at_k(actual_items_unseen, top_k_items_unseen, k))\n",
    "            precisions_unseen.append(precision_at_k(actual_items_unseen, top_k_items_unseen, k))\n",
    "    \n",
    "    return {\n",
    "        f'Precision@{k}': np.mean(precisions),\n",
    "        f'Recall@{k}': np.mean(recalls),\n",
    "        f'Precision@{k} on unseen': np.mean(precisions_unseen),\n",
    "        f'Recall@{k} on unseen': np.mean(recalls_unseen)}"
   ]
  },
  {
   "cell_type": "code",
   "execution_count": 42,
   "id": "b4db8b81",
   "metadata": {},
   "outputs": [
    {
     "name": "stdout",
     "output_type": "stream",
     "text": [
      "{'Precision@1': 0.1732283464566929, 'Recall@1': 0.06925190784800801, 'Precision@1 on unseen': 0.011627906976744186, 'Recall@1 on unseen': 0.006730650916697429}\n",
      "{'Precision@5': 0.07289088863892013, 'Recall@5': 0.11264905040616921, 'Precision@5 on unseen': 0.004651162790697675, 'Recall@5 on unseen': 0.015174063888874172}\n",
      "{'Precision@10': 0.05016872890888639, 'Recall@10': 0.14208093373429817, 'Precision@10 on unseen': 0.002823920265780731, 'Recall@10 on unseen': 0.017205172315331432}\n",
      "{'Precision@20': 0.03357705286839145, 'Recall@20': 0.16901294820764554, 'Precision@20 on unseen': 0.001993355481727575, 'Recall@20 on unseen': 0.02615195788390403}\n",
      "{'Precision@50': 0.02125984251968504, 'Recall@50': 0.2375755882538524, 'Precision@50 on unseen': 0.0011627906976744186, 'Recall@50 on unseen': 0.036916580857829326}\n"
     ]
    }
   ],
   "source": [
    "for k in [1,5,10,20,50]:\n",
    "    print(evaluate_svd(test_interactions,k))"
   ]
  },
  {
   "cell_type": "markdown",
   "id": "342e6868",
   "metadata": {},
   "source": [
    "## Removing duplicate events , but weighing the events"
   ]
  },
  {
   "cell_type": "code",
   "execution_count": 43,
   "id": "9fb79ab6e2ba750d",
   "metadata": {
    "ExecuteTime": {
     "end_time": "2024-11-25T20:32:17.945420Z",
     "start_time": "2024-11-25T20:32:17.942439Z"
    }
   },
   "outputs": [],
   "source": [
    "event_map={'view':1, 'addtocart':2, 'transaction':3}\n",
    "train_interactions = interactions[['visitorid','itemid','event']]\n",
    "train_interactions = train_interactions.drop_duplicates()\n",
    "train_interactions['weight'] = train_interactions['event'].apply(lambda x:event_map[x])\n",
    "train_interactions = train_interactions.sort_values(by=['visitorid','itemid','weight'], ascending=[True, True, False])\n",
    "train_interactions = train_interactions.drop_duplicates(subset=['visitorid','itemid'], keep='first')\n"
   ]
  },
  {
   "cell_type": "markdown",
   "id": "45210ac5",
   "metadata": {},
   "source": [
    "### User-user collaborative"
   ]
  },
  {
   "cell_type": "code",
   "execution_count": 44,
   "id": "9c2eb59cf9f4bcc6",
   "metadata": {},
   "outputs": [],
   "source": [
    "user_wise_df = train_interactions.pivot(index='visitorid', columns='itemid', values='weight').fillna(0)\n",
    "sparse_user_wise_df = sparse.csr_matrix(user_wise_df )\n",
    "similarities = cosine_similarity(sparse_user_wise_df,dense_output=False)"
   ]
  },
  {
   "cell_type": "code",
   "execution_count": 45,
   "id": "5359a0cd",
   "metadata": {},
   "outputs": [
    {
     "name": "stdout",
     "output_type": "stream",
     "text": [
      "{'Precision@1': 0.9955005624296963, 'Recall@1': 0.5147742826067268, 'Precision@1 on unseen': 0.008305647840531562, 'Recall@1 on unseen': 0.0054490083559851}\n",
      "{'Precision@5': 0.36197975253093373, 'Recall@5': 0.6471755092391303, 'Precision@5 on unseen': 0.0023255813953488376, 'Recall@5 on unseen': 0.006487214336051545}\n",
      "{'Precision@10': 0.21968503937007874, 'Recall@10': 0.6697380373656902, 'Precision@10 on unseen': 0.0016611295681063123, 'Recall@10 on unseen': 0.010141699385885432}\n",
      "{'Precision@20': 0.1295838020247469, 'Recall@20': 0.6820373024496834, 'Precision@20 on unseen': 0.0009136212624584718, 'Recall@20 on unseen': 0.010169854124327913}\n",
      "{'Precision@50': 0.06251968503937008, 'Recall@50': 0.6892388035132668, 'Precision@50 on unseen': 0.00046511627906976747, 'Recall@50 on unseen': 0.012098610122851352}\n"
     ]
    }
   ],
   "source": [
    "for k in [1,5,10,20,50]:\n",
    "    print(evaluate_user_collaborative(test_interactions, k=k))"
   ]
  },
  {
   "cell_type": "markdown",
   "id": "aba7115a",
   "metadata": {},
   "source": [
    "### Item-item collaborative"
   ]
  },
  {
   "cell_type": "code",
   "execution_count": 46,
   "id": "79dc7b60",
   "metadata": {},
   "outputs": [],
   "source": [
    "sparse_item_wise_df = sparse.csr_matrix(user_wise_df.T )\n",
    "item_similarities = cosine_similarity(sparse_item_wise_df,dense_output=False)"
   ]
  },
  {
   "cell_type": "code",
   "execution_count": 47,
   "id": "3f0b8cbc",
   "metadata": {},
   "outputs": [
    {
     "name": "stdout",
     "output_type": "stream",
     "text": [
      "{'Precision@1': 0.9988751406074241, 'Recall@1': 0.5168153010643253, 'Precision@1 on unseen': 0.014950166112956811, 'Recall@1 on unseen': 0.008084163898117386}\n",
      "{'Precision@5': 0.3655793025871767, 'Recall@5': 0.6537380241549404, 'Precision@5 on unseen': 0.008305647840531562, 'Recall@5 on unseen': 0.02004825185888309}\n",
      "{'Precision@10': 0.2210348706411699, 'Recall@10': 0.678370885814794, 'Precision@10 on unseen': 0.006312292358803987, 'Recall@10 on unseen': 0.03401231105550043}\n",
      "{'Precision@20': 0.12632170978627671, 'Recall@20': 0.6892910624828924, 'Precision@20 on unseen': 0.0034883720930232558, 'Recall@20 on unseen': 0.03543119256159123}\n",
      "{'Precision@50': 0.06150731158605175, 'Recall@50': 0.6978064122211955, 'Precision@50 on unseen': 0.0017607973421926912, 'Recall@50 on unseen': 0.03810046727317174}\n"
     ]
    }
   ],
   "source": [
    "for k in [1,5,10,20,50]:\n",
    "    print(evaluate_item_collaborative(test_interactions, k=k))"
   ]
  },
  {
   "cell_type": "markdown",
   "id": "5558bae6",
   "metadata": {},
   "source": [
    "### SVD"
   ]
  },
  {
   "cell_type": "code",
   "execution_count": 48,
   "id": "08a588e8",
   "metadata": {},
   "outputs": [],
   "source": [
    "U, s, Vt = svds(sparse_user_wise_df, k = 50) \n",
    "sigma = np.diag(s)\n",
    "predicted_interactions = np.dot(np.dot(U, sigma), Vt) "
   ]
  },
  {
   "cell_type": "code",
   "execution_count": 49,
   "id": "5b9f033a",
   "metadata": {},
   "outputs": [
    {
     "name": "stdout",
     "output_type": "stream",
     "text": [
      "{'Precision@1': 0.2047244094488189, 'Recall@1': 0.0863497992722168, 'Precision@1 on unseen': 0.008305647840531562, 'Recall@1 on unseen': 0.006367663344407531}\n",
      "{'Precision@5': 0.0843644544431946, 'Recall@5': 0.13563909071733965, 'Precision@5 on unseen': 0.0033222591362126247, 'Recall@5 on unseen': 0.011955099164401491}\n",
      "{'Precision@10': 0.05568053993250844, 'Recall@10': 0.1684084361993182, 'Precision@10 on unseen': 0.0021594684385382065, 'Recall@10 on unseen': 0.014200700247211874}\n",
      "{'Precision@20': 0.03751406074240721, 'Recall@20': 0.21385005436562904, 'Precision@20 on unseen': 0.0016611295681063123, 'Recall@20 on unseen': 0.020503362869389155}\n",
      "{'Precision@50': 0.023397075365579303, 'Recall@50': 0.28919804674176763, 'Precision@50 on unseen': 0.0010963455149501661, 'Recall@50 on unseen': 0.03126939293162485}\n"
     ]
    }
   ],
   "source": [
    "for k in [1,5,10,20,50]:\n",
    "    print(evaluate_svd(test_interactions, k=k))"
   ]
  },
  {
   "cell_type": "code",
   "execution_count": null,
   "id": "8d15957d",
   "metadata": {},
   "outputs": [],
   "source": []
  }
 ],
 "metadata": {
  "kernelspec": {
   "display_name": "Python 3",
   "language": "python",
   "name": "python3"
  },
  "language_info": {
   "codemirror_mode": {
    "name": "ipython",
    "version": 3
   },
   "file_extension": ".py",
   "mimetype": "text/x-python",
   "name": "python",
   "nbconvert_exporter": "python",
   "pygments_lexer": "ipython3",
   "version": "3.11.4"
  }
 },
 "nbformat": 4,
 "nbformat_minor": 5
}
