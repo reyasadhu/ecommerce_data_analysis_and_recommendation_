{
 "cells": [
  {
   "cell_type": "code",
   "id": "initial_id",
   "metadata": {
    "collapsed": true,
    "ExecuteTime": {
     "end_time": "2024-11-25T17:20:39.829679Z",
     "start_time": "2024-11-25T17:20:39.567312Z"
    }
   },
   "source": [
    "import pandas as pd\n",
    "import numpy as np"
   ],
   "outputs": [],
   "execution_count": 1
  },
  {
   "metadata": {
    "ExecuteTime": {
     "end_time": "2024-11-25T17:21:01.853598Z",
     "start_time": "2024-11-25T17:20:54.922970Z"
    }
   },
   "cell_type": "code",
   "source": [
    "interactions = pd.read_csv(\"processed_data/interactions_train.csv\")\n",
    "item_popularity = pd.read_csv(\"processed_data/popularity_item.csv\")\n",
    "user_popularity = pd.read_csv(\"processed_data/popularity_user.csv\")\n",
    "product_features = pd.read_csv(\"processed_data/product_features_train.csv\")"
   ],
   "id": "259631fd871ebe3c",
   "outputs": [],
   "execution_count": 2
  },
  {
   "metadata": {},
   "cell_type": "markdown",
   "source": "### Recommendation as per recently viewed items by the user",
   "id": "9c2fc171c41726de"
  },
  {
   "metadata": {
    "ExecuteTime": {
     "end_time": "2024-11-25T17:26:26.415240Z",
     "start_time": "2024-11-25T17:26:17.213655Z"
    }
   },
   "cell_type": "code",
   "source": [
    "viewed_items = interactions[interactions['event'] == 'view']\n",
    "recently_viewed = viewed_items.sort_values(by=['visitorid', 'timestamp'], ascending=[True, False])\n",
    "top_recently_viewed = recently_viewed.groupby('visitorid')['itemid'].apply(list).reset_index()"
   ],
   "id": "44e13bef6524b891",
   "outputs": [],
   "execution_count": 6
  },
  {
   "metadata": {
    "ExecuteTime": {
     "end_time": "2024-11-25T20:00:21.516286Z",
     "start_time": "2024-11-25T20:00:21.502488Z"
    }
   },
   "cell_type": "code",
   "source": [
    "top_recently_viewed[top_recently_viewed['visitorid'] == 2]['itemid'].apply(list)\n",
    "top_recently_viewed.head()"
   ],
   "id": "ae73a87fa76d72f3",
   "outputs": [
    {
     "data": {
      "text/plain": [
       "                       timestamp  visitorid event  itemid      index  \\\n",
       "2126260  2015-08-13 17:46:06.444          1  view   72028   698704.0   \n",
       "2025104  2015-08-07 18:20:57.845          2  view  325215  3145520.0   \n",
       "2025034  2015-08-07 18:17:43.170          2  view  216305  2093552.0   \n",
       "2025025  2015-08-07 18:17:24.375          2  view  342816  3315884.0   \n",
       "2024827  2015-08-07 18:08:25.669          2  view  342816  3315884.0   \n",
       "\n",
       "                                            202  \\\n",
       "2126260                                   72800   \n",
       "2025104  961487 755772 350564 n1980.000 1052766   \n",
       "2025034                 961487 755772 n1740.000   \n",
       "2025025                   493427 1103345 274271   \n",
       "2024827                   493427 1103345 274271   \n",
       "\n",
       "                                                       283        364  \\\n",
       "2126260                         887448 174342 820477 72800  1297407.0   \n",
       "2025104  36842 295499 961487 755772 350564 n1980.000 10...  1301516.0   \n",
       "2025034  36842 295499 961487 755772 n1740.000 21488 658...   312806.0   \n",
       "2025025  934173 150169 36842 295499 493427 1103345 2742...   866445.0   \n",
       "2024827  934173 150169 36842 295499 493427 1103345 2742...   866445.0   \n",
       "\n",
       "                           6     678  ...     839  \\\n",
       "2126260        887448 174342  820477  ...  820477   \n",
       "2025104                36842  295499  ...  295499   \n",
       "2025034                36842  295499  ...  295499   \n",
       "2025025  934173 150169 36842  295499  ...  295499   \n",
       "2024827  934173 150169 36842  295499  ...  295499   \n",
       "\n",
       "                                                       888  \\\n",
       "2126260                                              72800   \n",
       "2025104  961487 755772 350564 n1980.000 1052766 327591 ...   \n",
       "2025034                            961487 755772 n1740.000   \n",
       "2025025                       683597 493427 1103345 274271   \n",
       "2024827                       683597 493427 1103345 274271   \n",
       "\n",
       "                                                   917 available categoryid  \\\n",
       "2126260                                         934982       0.0     1192.0   \n",
       "2025104    961487 755772 533005 1052766 1121507 521742       1.0      299.0   \n",
       "2025034                                  n81821076.000       1.0      299.0   \n",
       "2025025  216742 1172395 1103345 554515 n24.000 1299781       1.0      444.0   \n",
       "2024827  216742 1172395 1103345 554515 n24.000 1299781       1.0      444.0   \n",
       "\n",
       "         parent_level_1  parent_level_2  parent_level_3  parent_level_4  \\\n",
       "2126260           955.0           384.0           140.0             NaN   \n",
       "2025104            73.0          1202.0           653.0             NaN   \n",
       "2025034            73.0          1202.0           653.0             NaN   \n",
       "2025025            73.0          1202.0           653.0             NaN   \n",
       "2024827            73.0          1202.0           653.0             NaN   \n",
       "\n",
       "         parent_level_5  \n",
       "2126260             NaN  \n",
       "2025104             NaN  \n",
       "2025034             NaN  \n",
       "2025025             NaN  \n",
       "2024827             NaN  \n",
       "\n",
       "[5 rows x 22 columns]"
      ],
      "text/html": [
       "<div>\n",
       "<style scoped>\n",
       "    .dataframe tbody tr th:only-of-type {\n",
       "        vertical-align: middle;\n",
       "    }\n",
       "\n",
       "    .dataframe tbody tr th {\n",
       "        vertical-align: top;\n",
       "    }\n",
       "\n",
       "    .dataframe thead th {\n",
       "        text-align: right;\n",
       "    }\n",
       "</style>\n",
       "<table border=\"1\" class=\"dataframe\">\n",
       "  <thead>\n",
       "    <tr style=\"text-align: right;\">\n",
       "      <th></th>\n",
       "      <th>timestamp</th>\n",
       "      <th>visitorid</th>\n",
       "      <th>event</th>\n",
       "      <th>itemid</th>\n",
       "      <th>index</th>\n",
       "      <th>202</th>\n",
       "      <th>283</th>\n",
       "      <th>364</th>\n",
       "      <th>6</th>\n",
       "      <th>678</th>\n",
       "      <th>...</th>\n",
       "      <th>839</th>\n",
       "      <th>888</th>\n",
       "      <th>917</th>\n",
       "      <th>available</th>\n",
       "      <th>categoryid</th>\n",
       "      <th>parent_level_1</th>\n",
       "      <th>parent_level_2</th>\n",
       "      <th>parent_level_3</th>\n",
       "      <th>parent_level_4</th>\n",
       "      <th>parent_level_5</th>\n",
       "    </tr>\n",
       "  </thead>\n",
       "  <tbody>\n",
       "    <tr>\n",
       "      <th>2126260</th>\n",
       "      <td>2015-08-13 17:46:06.444</td>\n",
       "      <td>1</td>\n",
       "      <td>view</td>\n",
       "      <td>72028</td>\n",
       "      <td>698704.0</td>\n",
       "      <td>72800</td>\n",
       "      <td>887448 174342 820477 72800</td>\n",
       "      <td>1297407.0</td>\n",
       "      <td>887448 174342</td>\n",
       "      <td>820477</td>\n",
       "      <td>...</td>\n",
       "      <td>820477</td>\n",
       "      <td>72800</td>\n",
       "      <td>934982</td>\n",
       "      <td>0.0</td>\n",
       "      <td>1192.0</td>\n",
       "      <td>955.0</td>\n",
       "      <td>384.0</td>\n",
       "      <td>140.0</td>\n",
       "      <td>NaN</td>\n",
       "      <td>NaN</td>\n",
       "    </tr>\n",
       "    <tr>\n",
       "      <th>2025104</th>\n",
       "      <td>2015-08-07 18:20:57.845</td>\n",
       "      <td>2</td>\n",
       "      <td>view</td>\n",
       "      <td>325215</td>\n",
       "      <td>3145520.0</td>\n",
       "      <td>961487 755772 350564 n1980.000 1052766</td>\n",
       "      <td>36842 295499 961487 755772 350564 n1980.000 10...</td>\n",
       "      <td>1301516.0</td>\n",
       "      <td>36842</td>\n",
       "      <td>295499</td>\n",
       "      <td>...</td>\n",
       "      <td>295499</td>\n",
       "      <td>961487 755772 350564 n1980.000 1052766 327591 ...</td>\n",
       "      <td>961487 755772 533005 1052766 1121507 521742</td>\n",
       "      <td>1.0</td>\n",
       "      <td>299.0</td>\n",
       "      <td>73.0</td>\n",
       "      <td>1202.0</td>\n",
       "      <td>653.0</td>\n",
       "      <td>NaN</td>\n",
       "      <td>NaN</td>\n",
       "    </tr>\n",
       "    <tr>\n",
       "      <th>2025034</th>\n",
       "      <td>2015-08-07 18:17:43.170</td>\n",
       "      <td>2</td>\n",
       "      <td>view</td>\n",
       "      <td>216305</td>\n",
       "      <td>2093552.0</td>\n",
       "      <td>961487 755772 n1740.000</td>\n",
       "      <td>36842 295499 961487 755772 n1740.000 21488 658...</td>\n",
       "      <td>312806.0</td>\n",
       "      <td>36842</td>\n",
       "      <td>295499</td>\n",
       "      <td>...</td>\n",
       "      <td>295499</td>\n",
       "      <td>961487 755772 n1740.000</td>\n",
       "      <td>n81821076.000</td>\n",
       "      <td>1.0</td>\n",
       "      <td>299.0</td>\n",
       "      <td>73.0</td>\n",
       "      <td>1202.0</td>\n",
       "      <td>653.0</td>\n",
       "      <td>NaN</td>\n",
       "      <td>NaN</td>\n",
       "    </tr>\n",
       "    <tr>\n",
       "      <th>2025025</th>\n",
       "      <td>2015-08-07 18:17:24.375</td>\n",
       "      <td>2</td>\n",
       "      <td>view</td>\n",
       "      <td>342816</td>\n",
       "      <td>3315884.0</td>\n",
       "      <td>493427 1103345 274271</td>\n",
       "      <td>934173 150169 36842 295499 493427 1103345 2742...</td>\n",
       "      <td>866445.0</td>\n",
       "      <td>934173 150169 36842</td>\n",
       "      <td>295499</td>\n",
       "      <td>...</td>\n",
       "      <td>295499</td>\n",
       "      <td>683597 493427 1103345 274271</td>\n",
       "      <td>216742 1172395 1103345 554515 n24.000 1299781</td>\n",
       "      <td>1.0</td>\n",
       "      <td>444.0</td>\n",
       "      <td>73.0</td>\n",
       "      <td>1202.0</td>\n",
       "      <td>653.0</td>\n",
       "      <td>NaN</td>\n",
       "      <td>NaN</td>\n",
       "    </tr>\n",
       "    <tr>\n",
       "      <th>2024827</th>\n",
       "      <td>2015-08-07 18:08:25.669</td>\n",
       "      <td>2</td>\n",
       "      <td>view</td>\n",
       "      <td>342816</td>\n",
       "      <td>3315884.0</td>\n",
       "      <td>493427 1103345 274271</td>\n",
       "      <td>934173 150169 36842 295499 493427 1103345 2742...</td>\n",
       "      <td>866445.0</td>\n",
       "      <td>934173 150169 36842</td>\n",
       "      <td>295499</td>\n",
       "      <td>...</td>\n",
       "      <td>295499</td>\n",
       "      <td>683597 493427 1103345 274271</td>\n",
       "      <td>216742 1172395 1103345 554515 n24.000 1299781</td>\n",
       "      <td>1.0</td>\n",
       "      <td>444.0</td>\n",
       "      <td>73.0</td>\n",
       "      <td>1202.0</td>\n",
       "      <td>653.0</td>\n",
       "      <td>NaN</td>\n",
       "      <td>NaN</td>\n",
       "    </tr>\n",
       "  </tbody>\n",
       "</table>\n",
       "<p>5 rows × 22 columns</p>\n",
       "</div>"
      ]
     },
     "execution_count": 66,
     "metadata": {},
     "output_type": "execute_result"
    }
   ],
   "execution_count": 66
  },
  {
   "metadata": {},
   "cell_type": "markdown",
   "source": "### Most popular items as per the number_of_views property",
   "id": "fd9ad223f87cf69f"
  },
  {
   "metadata": {
    "ExecuteTime": {
     "end_time": "2024-11-25T17:26:45.183779Z",
     "start_time": "2024-11-25T17:26:45.163390Z"
    }
   },
   "cell_type": "code",
   "source": [
    "top_items = item_popularity.sort_values(by='number_of_views', ascending=False)\n",
    "\n",
    "N = 10\n",
    "top_popular_items = top_items['itemid'].head(N).tolist()"
   ],
   "id": "c9572559a18c78f7",
   "outputs": [],
   "execution_count": 10
  },
  {
   "metadata": {
    "ExecuteTime": {
     "end_time": "2024-11-25T20:02:12.803677Z",
     "start_time": "2024-11-25T20:02:12.798699Z"
    }
   },
   "cell_type": "code",
   "source": "top_popular_items",
   "id": "eb342066a9dc6a39",
   "outputs": [
    {
     "data": {
      "text/plain": [
       "[187946, 5411, 461686, 370653, 309778, 298009, 257040, 219512, 96924, 335975]"
      ]
     },
     "execution_count": 67,
     "metadata": {},
     "output_type": "execute_result"
    }
   ],
   "execution_count": 67
  },
  {
   "metadata": {},
   "cell_type": "markdown",
   "source": "### Most popular items in each category as per number_of_views property",
   "id": "7d3909ae3107763d"
  },
  {
   "metadata": {
    "ExecuteTime": {
     "end_time": "2024-11-25T17:30:32.691872Z",
     "start_time": "2024-11-25T17:30:28.710703Z"
    }
   },
   "cell_type": "code",
   "source": [
    "category_popularity = interactions.groupby(['categoryid', 'itemid']).agg(\n",
    "    number_of_views=('event', lambda x: (x == 'view').sum())\n",
    ").reset_index()\n",
    "category_popularity['rank'] = category_popularity.groupby('categoryid')['number_of_views'].rank(ascending=False, method='first')\n",
    "top_n = 10\n",
    "category_top_items = category_popularity[category_popularity['rank'] <= top_n]\n",
    "category_to_top_items = category_top_items.groupby('categoryid')['itemid'].apply(list).to_dict()"
   ],
   "id": "1582a45de2235c6d",
   "outputs": [],
   "execution_count": 18
  },
  {
   "metadata": {
    "ExecuteTime": {
     "end_time": "2024-11-25T22:43:42.170378Z",
     "start_time": "2024-11-25T22:43:42.160338Z"
    }
   },
   "cell_type": "code",
   "source": "",
   "id": "992c0647962517ec",
   "outputs": [],
   "execution_count": null
  },
  {
   "metadata": {},
   "cell_type": "markdown",
   "source": "### Recommending Co-Viewed Items ",
   "id": "f53d7c4b6f48e30c"
  },
  {
   "metadata": {
    "ExecuteTime": {
     "end_time": "2024-11-25T18:11:25.672369Z",
     "start_time": "2024-11-25T18:11:19.045248Z"
    }
   },
   "cell_type": "code",
   "source": [
    "from collections import Counter\n",
    "\n",
    "def get_co_viewed_items(interactions, itemid, top_n=5):\n",
    "    sessions = interactions.groupby('visitorid')['itemid'].apply(list)\n",
    "\n",
    "    co_viewed_counts = Counter()\n",
    "    for session in sessions:\n",
    "        if itemid in session:\n",
    "            co_viewed_counts.update(session)\n",
    "    co_viewed_counts.pop(itemid, None)\n",
    "    return [item for item, _ in co_viewed_counts.most_common(top_n)]\n",
    "\n",
    "co_viewed = get_co_viewed_items(interactions, itemid=187946, top_n=5)"
   ],
   "id": "c948632410ae1978",
   "outputs": [],
   "execution_count": 32
  },
  {
   "metadata": {
    "ExecuteTime": {
     "end_time": "2024-11-25T18:11:31.422285Z",
     "start_time": "2024-11-25T18:11:31.417646Z"
    }
   },
   "cell_type": "code",
   "source": "co_viewed",
   "id": "fc39b45248d8d149",
   "outputs": [
    {
     "data": {
      "text/plain": [
       "[389814, 133549, 46399, 358895, 128296]"
      ]
     },
     "execution_count": 33,
     "metadata": {},
     "output_type": "execute_result"
    }
   ],
   "execution_count": 33
  },
  {
   "metadata": {
    "ExecuteTime": {
     "end_time": "2024-11-25T19:40:12.280598Z",
     "start_time": "2024-11-25T19:39:44.010044Z"
    }
   },
   "cell_type": "code",
   "source": [
    "from collections import defaultdict\n",
    "\n",
    "usersPerItem = defaultdict(set) # Maps an item to the users who rated it\n",
    "itemsPerUser = defaultdict(set)\n",
    "\n",
    "for idx, row in interactions.iterrows():\n",
    "    user,item = row['visitorid'], row['itemid']\n",
    "    usersPerItem[item].add(user)\n",
    "    itemsPerUser[user].add(item)"
   ],
   "id": "7af403241505c6ca",
   "outputs": [],
   "execution_count": 34
  },
  {
   "metadata": {},
   "cell_type": "markdown",
   "source": "### Jaccard Similarity Model",
   "id": "c6e5301c8ba71f14"
  },
  {
   "metadata": {
    "ExecuteTime": {
     "end_time": "2024-11-25T19:40:40.459180Z",
     "start_time": "2024-11-25T19:40:40.455177Z"
    }
   },
   "cell_type": "code",
   "source": [
    "def Jaccard(s1, s2):\n",
    "    numer = len(s1.intersection(s2))\n",
    "    denom = len(s1.union(s2))\n",
    "    if denom == 0:\n",
    "        return 0\n",
    "    return numer / denom"
   ],
   "id": "a7b767a9fbfe5473",
   "outputs": [],
   "execution_count": 37
  },
  {
   "metadata": {
    "ExecuteTime": {
     "end_time": "2024-11-25T19:49:57.629141Z",
     "start_time": "2024-11-25T19:49:57.626919Z"
    }
   },
   "cell_type": "code",
   "source": [
    "def mostSimilar(i, N):\n",
    "    similarities = []\n",
    "    users = usersPerItem[i]\n",
    "    for i2 in usersPerItem:\n",
    "        if i2 == i: continue\n",
    "        sim = Jaccard(users, usersPerItem[i2])\n",
    "        similarities.append((sim,i2))\n",
    "    similarities.sort(reverse=True)\n",
    "    return similarities[:N]"
   ],
   "id": "c86a4a1f429a6a70",
   "outputs": [],
   "execution_count": 44
  },
  {
   "metadata": {
    "ExecuteTime": {
     "end_time": "2024-11-25T19:51:16.900895Z",
     "start_time": "2024-11-25T19:51:16.310807Z"
    }
   },
   "cell_type": "code",
   "source": [
    "items_jacard = [k for (_,k) in mostSimilar(149767, 10)]\n",
    "print(items_jacard)"
   ],
   "id": "f5daff3ea32ff0d4",
   "outputs": [
    {
     "name": "stdout",
     "output_type": "stream",
     "text": [
      "[444363, 377133, 338395, 205143, 425920, 437778, 439963, 79956, 442725, 305634]\n"
     ]
    }
   ],
   "execution_count": 49
  },
  {
   "metadata": {
    "ExecuteTime": {
     "end_time": "2024-11-25T20:20:36.037728Z",
     "start_time": "2024-11-25T20:20:35.240850Z"
    }
   },
   "cell_type": "code",
   "source": "interactions_test = pd.read_csv(\"processed_data/interactions_valid.csv\")",
   "id": "23c4cf47470edea7",
   "outputs": [],
   "execution_count": 70
  },
  {
   "metadata": {
    "ExecuteTime": {
     "end_time": "2024-11-25T20:20:53.399266Z",
     "start_time": "2024-11-25T20:20:52.358312Z"
    }
   },
   "cell_type": "code",
   "source": [
    "test_interactions = interactions_test.groupby('visitorid')['itemid'].apply(set).reset_index()\n",
    "test_interactions.columns = ['visitorid', 'actual_items']"
   ],
   "id": "edee8c165a082033",
   "outputs": [],
   "execution_count": 71
  },
  {
   "metadata": {
    "ExecuteTime": {
     "end_time": "2024-11-25T20:21:00.128813Z",
     "start_time": "2024-11-25T20:21:00.118863Z"
    }
   },
   "cell_type": "code",
   "source": "test_interactions.head()",
   "id": "a1f350abf48b4cfe",
   "outputs": [
    {
     "data": {
      "text/plain": [
       "   visitorid             actual_items\n",
       "0          0  {285930, 357564, 67045}\n",
       "1          4                 {177677}\n",
       "2         15                  {22495}\n",
       "3         18                 {209302}\n",
       "4         32         {465465, 282491}"
      ],
      "text/html": [
       "<div>\n",
       "<style scoped>\n",
       "    .dataframe tbody tr th:only-of-type {\n",
       "        vertical-align: middle;\n",
       "    }\n",
       "\n",
       "    .dataframe tbody tr th {\n",
       "        vertical-align: top;\n",
       "    }\n",
       "\n",
       "    .dataframe thead th {\n",
       "        text-align: right;\n",
       "    }\n",
       "</style>\n",
       "<table border=\"1\" class=\"dataframe\">\n",
       "  <thead>\n",
       "    <tr style=\"text-align: right;\">\n",
       "      <th></th>\n",
       "      <th>visitorid</th>\n",
       "      <th>actual_items</th>\n",
       "    </tr>\n",
       "  </thead>\n",
       "  <tbody>\n",
       "    <tr>\n",
       "      <th>0</th>\n",
       "      <td>0</td>\n",
       "      <td>{285930, 357564, 67045}</td>\n",
       "    </tr>\n",
       "    <tr>\n",
       "      <th>1</th>\n",
       "      <td>4</td>\n",
       "      <td>{177677}</td>\n",
       "    </tr>\n",
       "    <tr>\n",
       "      <th>2</th>\n",
       "      <td>15</td>\n",
       "      <td>{22495}</td>\n",
       "    </tr>\n",
       "    <tr>\n",
       "      <th>3</th>\n",
       "      <td>18</td>\n",
       "      <td>{209302}</td>\n",
       "    </tr>\n",
       "    <tr>\n",
       "      <th>4</th>\n",
       "      <td>32</td>\n",
       "      <td>{465465, 282491}</td>\n",
       "    </tr>\n",
       "  </tbody>\n",
       "</table>\n",
       "</div>"
      ]
     },
     "execution_count": 72,
     "metadata": {},
     "output_type": "execute_result"
    }
   ],
   "execution_count": 72
  },
  {
   "metadata": {
    "ExecuteTime": {
     "end_time": "2024-11-25T20:32:09.571957Z",
     "start_time": "2024-11-25T20:32:09.560824Z"
    }
   },
   "cell_type": "code",
   "source": [
    "def recently_viewed_recommendation(user_id,k):\n",
    "    user_recent_items = top_recently_viewed[top_recently_viewed['visitorid'] == user_id]['itemid']\n",
    "    return user_recent_items.iloc[0][:k] if not user_recent_items.empty else []\n",
    "\n",
    "def popularity_recommendation(user_id):\n",
    "    return top_popular_items "
   ],
   "id": "c5429b5b5327fca1",
   "outputs": [],
   "execution_count": 91
  },
  {
   "metadata": {
    "ExecuteTime": {
     "end_time": "2024-11-25T20:32:11.978439Z",
     "start_time": "2024-11-25T20:32:11.975959Z"
    }
   },
   "cell_type": "code",
   "source": [
    "def precision_at_k(actual, predicted, k=10):\n",
    "    predicted = predicted[:k]\n",
    "    relevant = set(actual)\n",
    "    hits = len(set(predicted) & relevant)\n",
    "    return hits / k"
   ],
   "id": "b926b490297c1ef9",
   "outputs": [],
   "execution_count": 92
  },
  {
   "metadata": {
    "ExecuteTime": {
     "end_time": "2024-11-25T20:32:17.945420Z",
     "start_time": "2024-11-25T20:32:17.942439Z"
    }
   },
   "cell_type": "code",
   "source": [
    "def evaluate_model(test_data, recommendation_func, k=10):\n",
    "    precisions = []\n",
    "\n",
    "    for _, row in test_data.iterrows():\n",
    "        user_id = row['visitorid']\n",
    "        actual_items = row['actual_items']\n",
    "\n",
    "        predicted_items = recommendation_func(user_id, k)\n",
    "\n",
    "        precisions.append(precision_at_k(actual_items, predicted_items, k))\n",
    "\n",
    "    return {\n",
    "        'Precision@K': np.mean(precisions),\n",
    "    }"
   ],
   "id": "9fb79ab6e2ba750d",
   "outputs": [],
   "execution_count": 93
  },
  {
   "metadata": {
    "ExecuteTime": {
     "end_time": "2024-11-25T21:03:58.980558Z",
     "start_time": "2024-11-25T21:03:20.433599Z"
    }
   },
   "cell_type": "code",
   "source": "results_recently_viewed = evaluate_model(test_interactions, recently_viewed_recommendation, k=20)",
   "id": "92d65cd6d2ee94c1",
   "outputs": [],
   "execution_count": 96
  },
  {
   "metadata": {
    "ExecuteTime": {
     "end_time": "2024-11-25T20:33:01.474038Z",
     "start_time": "2024-11-25T20:33:01.468341Z"
    }
   },
   "cell_type": "code",
   "source": "results_recently_viewed",
   "id": "9a771e8f42c51968",
   "outputs": [
    {
     "data": {
      "text/plain": [
       "{'Precision@K': 0.004040799410572849}"
      ]
     },
     "execution_count": 95,
     "metadata": {},
     "output_type": "execute_result"
    }
   ],
   "execution_count": 95
  },
  {
   "metadata": {
    "ExecuteTime": {
     "end_time": "2024-11-25T20:32:01.044087Z",
     "start_time": "2024-11-25T20:32:01.039256Z"
    }
   },
   "cell_type": "code",
   "source": "top_popular_items",
   "id": "8da39563f0d87028",
   "outputs": [
    {
     "data": {
      "text/plain": [
       "[187946, 5411, 461686, 370653, 309778, 298009, 257040, 219512, 96924, 335975]"
      ]
     },
     "execution_count": 90,
     "metadata": {},
     "output_type": "execute_result"
    }
   ],
   "execution_count": 90
  },
  {
   "metadata": {},
   "cell_type": "code",
   "outputs": [],
   "execution_count": null,
   "source": "",
   "id": "9c2eb59cf9f4bcc6"
  }
 ],
 "metadata": {
  "kernelspec": {
   "display_name": "Python 3",
   "language": "python",
   "name": "python3"
  },
  "language_info": {
   "codemirror_mode": {
    "name": "ipython",
    "version": 2
   },
   "file_extension": ".py",
   "mimetype": "text/x-python",
   "name": "python",
   "nbconvert_exporter": "python",
   "pygments_lexer": "ipython2",
   "version": "2.7.6"
  }
 },
 "nbformat": 4,
 "nbformat_minor": 5
}
