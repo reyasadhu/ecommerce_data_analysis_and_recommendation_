{
 "cells": [
  {
   "cell_type": "code",
   "execution_count": 212,
   "id": "initial_id",
   "metadata": {
    "ExecuteTime": {
     "end_time": "2024-11-25T17:20:39.829679Z",
     "start_time": "2024-11-25T17:20:39.567312Z"
    },
    "collapsed": true
   },
   "outputs": [],
   "source": [
    "import pandas as pd\n",
    "import numpy as np\n",
    "from sklearn.metrics.pairwise import cosine_similarity\n",
    "from tqdm import tqdm\n",
    "import warnings\n",
    "warnings.filterwarnings(\"ignore\")\n",
    "import tensorflow as tf\n",
    "import random"
   ]
  },
  {
   "cell_type": "code",
   "execution_count": 3,
   "id": "259631fd871ebe3c",
   "metadata": {
    "ExecuteTime": {
     "end_time": "2024-11-25T17:21:01.853598Z",
     "start_time": "2024-11-25T17:20:54.922970Z"
    }
   },
   "outputs": [],
   "source": [
    "interactions = pd.read_csv(\"processed_data/interactions_train.csv\")\n",
    "interactions_test = pd.read_csv(\"processed_data/interactions_valid.csv\")\n",
    "item_popularity = pd.read_csv(\"processed_data/popularity_item.csv\")\n",
    "user_popularity = pd.read_csv(\"processed_data/popularity_user.csv\")\n",
    "product_features = pd.read_csv(\"processed_data/product_features.csv\")"
   ]
  },
  {
   "cell_type": "code",
   "execution_count": 3,
   "id": "66383170",
   "metadata": {},
   "outputs": [
    {
     "data": {
      "text/plain": [
       "889"
      ]
     },
     "execution_count": 3,
     "metadata": {},
     "output_type": "execute_result"
    }
   ],
   "source": [
    "len(set(interactions['visitorid'].unique()) & set(interactions_test['visitorid'].unique()))"
   ]
  },
  {
   "cell_type": "code",
   "execution_count": 4,
   "id": "7a42224c",
   "metadata": {},
   "outputs": [],
   "source": [
    "interactions_test = interactions_test[interactions_test['visitorid'].isin(interactions['visitorid'].unique())]"
   ]
  },
  {
   "cell_type": "code",
   "execution_count": 5,
   "id": "e1cc2026",
   "metadata": {},
   "outputs": [
    {
     "data": {
      "text/plain": [
       "89010"
      ]
     },
     "execution_count": 5,
     "metadata": {},
     "output_type": "execute_result"
    }
   ],
   "source": [
    "interactions['visitorid'].nunique()"
   ]
  },
  {
   "cell_type": "markdown",
   "id": "9186e723",
   "metadata": {},
   "source": [
    "## Baseline Model: Recommend the most popular 50 items"
   ]
  },
  {
   "cell_type": "code",
   "execution_count": null,
   "id": "7bbe6773",
   "metadata": {},
   "outputs": [],
   "source": [
    "top_items = item_popularity.sort_values(by='number_of_views', ascending=False)\n",
    "top_popular_items = top_items['itemid'].head(50).tolist()"
   ]
  },
  {
   "cell_type": "code",
   "execution_count": 188,
   "id": "bff5042c",
   "metadata": {},
   "outputs": [],
   "source": [
    "def precision_at_k(actual, predicted, k=10):\n",
    "    predicted = predicted[:k]\n",
    "    hits = len(set(predicted) & actual)\n",
    "    return hits / k\n",
    "\n",
    "def recall_at_k(actual, predicted, k=10):\n",
    "    predicted = predicted[:k]\n",
    "    hits = len(set(predicted) & actual)\n",
    "    if len(actual)==0:\n",
    "        return 0\n",
    "    return hits/len(actual)"
   ]
  },
  {
   "cell_type": "code",
   "execution_count": null,
   "id": "edee8c165a082033",
   "metadata": {
    "ExecuteTime": {
     "end_time": "2024-11-25T20:20:53.399266Z",
     "start_time": "2024-11-25T20:20:52.358312Z"
    }
   },
   "outputs": [],
   "source": [
    "test_interactions = interactions_test.groupby('visitorid')['itemid'].apply(set).reset_index()\n",
    "test_interactions.columns = ['visitorid', 'actual_items']\n",
    "train_interactions = interactions.groupby('visitorid')['itemid'].apply(set)\n",
    "test_interactions['actual_items_unseen'] = test_interactions['visitorid'].apply(lambda x: train_interactions[x] if x in train_interactions.index else {})\n",
    "test_interactions['actual_items_unseen'] = test_interactions.apply(lambda row: row['actual_items'] - row['actual_items_unseen'], axis=1)"
   ]
  },
  {
   "cell_type": "code",
   "execution_count": 196,
   "id": "314ba1cd",
   "metadata": {},
   "outputs": [
    {
     "name": "stdout",
     "output_type": "stream",
     "text": [
      "Precision@1: 0.021372328458942633 Recall@1: 0.010025006395473974\n",
      "Precision@5: 0.010123734533183354 Recall@5: 0.027769271722697685\n",
      "Precision@10: 0.00719910011248594 Recall@10: 0.04083174605626313\n",
      "Precision@20: 0.005961754780652419 Recall@20: 0.061960463123044346\n",
      "Precision@50: 0.0040269966254218225 Recall@50: 0.10431156169934218\n"
     ]
    }
   ],
   "source": [
    "for k in [1,5,10,20,50]:\n",
    "    test_interactions['precision'] = test_interactions['actual_items'].apply(lambda x: precision_at_k(x, top_popular_items,k))\n",
    "    test_interactions['recall'] = test_interactions['actual_items'].apply(lambda x: recall_at_k(x, top_popular_items,k))\n",
    "    print(f'Precision@{k}:', np.mean(test_interactions['precision']),f'Recall@{k}:', np.mean(test_interactions['recall']))"
   ]
  },
  {
   "cell_type": "code",
   "execution_count": 197,
   "id": "22f980e9",
   "metadata": {},
   "outputs": [
    {
     "name": "stdout",
     "output_type": "stream",
     "text": [
      "Precision@1 on unseen: 0.0 Recall@1 on unseen: 0.0\n",
      "Precision@5 on unseen: 0.0044994375703037125 Recall@5 on unseen: 0.009488969742144937\n",
      "Precision@10 on unseen: 0.003262092238470192 Recall@10 on unseen: 0.013543191225329104\n",
      "Precision@20 on unseen: 0.003262092238470192 Recall@20 on unseen: 0.02466121009828822\n",
      "Precision@50 on unseen: 0.0024296962879640045 Recall@50 on unseen: 0.05054421084327059\n"
     ]
    }
   ],
   "source": [
    "for k in [1,5,10,20,50]:\n",
    "    test_interactions['precision'] = test_interactions.apply(lambda row: precision_at_k(row['actual_items_unseen'], list(set(top_popular_items)-(row['actual_items']-row['actual_items_unseen'])),k),axis=1)\n",
    "    test_interactions['recall'] = test_interactions.apply(lambda row: recall_at_k(row['actual_items_unseen'], list(set(top_popular_items)-(row['actual_items']-row['actual_items_unseen'])),k),axis=1)\n",
    "    print(f'Precision@{k} on unseen:', np.mean(test_interactions['precision']),f'Recall@{k} on unseen:', np.mean(test_interactions['recall']))"
   ]
  },
  {
   "cell_type": "markdown",
   "id": "88ccb37d",
   "metadata": {},
   "source": [
    "## Recently Viewed items"
   ]
  },
  {
   "cell_type": "code",
   "execution_count": null,
   "id": "a46ea31e",
   "metadata": {},
   "outputs": [],
   "source": [
    "recently_interacted = interactions.sort_values(by=['visitorid', 'timestamp'], ascending=[True, False])\n",
    "top_recently_interacted = recently_interacted.groupby('visitorid')['itemid'].apply(set).reset_index()"
   ]
  },
  {
   "cell_type": "code",
   "execution_count": 30,
   "id": "6989843c",
   "metadata": {},
   "outputs": [],
   "source": [
    "test_interactions = test_interactions.merge(top_recently_interacted, on='visitorid',how='left')\n",
    "test_interactions.rename(columns={'itemid':'RVI_predicted'}, inplace= True) "
   ]
  },
  {
   "cell_type": "code",
   "execution_count": 50,
   "id": "e15ff525",
   "metadata": {},
   "outputs": [],
   "source": [
    "def evaluate_baseline_model(test_data,k=10):\n",
    "    precisions = []\n",
    "    recalls = []\n",
    "\n",
    "    test_data['predicted'] = test_data['RVI_predicted'].apply(lambda x: list(x)[:k] if x else [])\n",
    "    test_data['precision'] = test_data.apply(lambda row: precision_at_k(row['actual_items'], row['predicted'], k), axis=1)\n",
    "    test_data['recall'] = test_data.apply(lambda row: recall_at_k(row['actual_items'], row['predicted'], k), axis=1)\n",
    "\n",
    "    return {\n",
    "        f'Precision@{k}': np.mean(test_data['precision']),\n",
    "        f'Recall@{k}': np.mean(test_data['recall']),\n",
    "    }"
   ]
  },
  {
   "cell_type": "code",
   "execution_count": 54,
   "id": "92d65cd6d2ee94c1",
   "metadata": {
    "ExecuteTime": {
     "end_time": "2024-11-25T21:03:58.980558Z",
     "start_time": "2024-11-25T21:03:20.433599Z"
    }
   },
   "outputs": [
    {
     "name": "stdout",
     "output_type": "stream",
     "text": [
      "{'Precision@1': 0.3138357705286839, 'Recall@1': 0.2880005664876306}\n",
      "{'Precision@5': 0.07896512935883016, 'Recall@5': 0.336465896308416}\n",
      "{'Precision@10': 0.04139482564679415, 'Recall@10': 0.3424523717631232}\n",
      "{'Precision@20': 0.02131608548931383, 'Recall@20': 0.34402791234227204}\n",
      "{'Precision@50': 0.009043869516310463, 'Recall@50': 0.34574689844583406}\n"
     ]
    }
   ],
   "source": [
    "for k in [1,5,10,20,50]:\n",
    "    print(evaluate_baseline_model(test_interactions, k=k))"
   ]
  },
  {
   "cell_type": "code",
   "execution_count": 56,
   "id": "7af403241505c6ca",
   "metadata": {
    "ExecuteTime": {
     "end_time": "2024-11-25T19:40:12.280598Z",
     "start_time": "2024-11-25T19:39:44.010044Z"
    }
   },
   "outputs": [],
   "source": [
    "from collections import defaultdict\n",
    "\n",
    "usersPerItem = defaultdict(set) # Maps an item to the users who rated it\n",
    "itemsPerUser = defaultdict(set)\n",
    "\n",
    "for idx, row in interactions.iterrows():\n",
    "    user,item = row['visitorid'], row['itemid']\n",
    "    usersPerItem[item].add(user)\n",
    "    itemsPerUser[user].add(item)"
   ]
  },
  {
   "cell_type": "markdown",
   "id": "27a90ca9",
   "metadata": {},
   "source": [
    "## User user collaborative Filtering"
   ]
  },
  {
   "cell_type": "code",
   "execution_count": 168,
   "id": "f5daff3ea32ff0d4",
   "metadata": {
    "ExecuteTime": {
     "end_time": "2024-11-25T19:51:16.900895Z",
     "start_time": "2024-11-25T19:51:16.310807Z"
    }
   },
   "outputs": [],
   "source": [
    "user_item = pd.DataFrame(interactions.groupby(['visitorid','itemid'])['timestamp'].count().reset_index())\n",
    "user_wise_df = user_item.pivot(index='visitorid', columns='itemid', values='timestamp').fillna(0)\n"
   ]
  },
  {
   "cell_type": "code",
   "execution_count": 86,
   "id": "e39485b8",
   "metadata": {},
   "outputs": [],
   "source": [
    "user_id_to_index = {user_id: idx for idx, user_id in enumerate(user_wise_df.index)}\n",
    "index_to_user_id = {idx: user_id for user_id, idx in user_id_to_index.items()}\n",
    "item_id_to_index = {item_id: idx for idx, item_id in enumerate(user_wise_df.columns)}\n",
    "index_to_item_id = {idx: item_id for item_id, idx in item_id_to_index.items()}"
   ]
  },
  {
   "cell_type": "code",
   "execution_count": 169,
   "id": "d7fd0805",
   "metadata": {},
   "outputs": [],
   "source": [
    "from scipy import sparse\n",
    "sparse_user_wise_df = sparse.csr_matrix(user_wise_df )\n",
    "similarities = cosine_similarity(sparse_user_wise_df,dense_output=False)"
   ]
  },
  {
   "cell_type": "code",
   "execution_count": null,
   "id": "c5429b5b5327fca1",
   "metadata": {
    "ExecuteTime": {
     "end_time": "2024-11-25T20:32:09.571957Z",
     "start_time": "2024-11-25T20:32:09.560824Z"
    }
   },
   "outputs": [],
   "source": [
    "import heapq\n",
    "def evaluate_user_collaborative(test_interactions,k=10):\n",
    "    recalls = []\n",
    "    precisions = []\n",
    "    recalls_unseen = []\n",
    "    precisions_unseen = []\n",
    "    \n",
    "    \n",
    "    for user, actual_items, actual_items_unseen in zip(test_interactions['visitorid'], test_interactions['actual_items'], test_interactions['actual_items_unseen']):\n",
    "        specific_user_index = user_id_to_index[user]\n",
    "        # Get nearest neighbors\n",
    "        user_similarities = similarities[specific_user_index].toarray().flatten()\n",
    "        top_similar_indices = heapq.nlargest(10, range(len(user_similarities)), key=lambda i: user_similarities[i])\n",
    "        similar_users = [index_to_user_id[idx] for idx in top_similar_indices][:10]\n",
    "\n",
    "        # Vectorized prediction for unseen items\n",
    "        predictions = user_wise_df.loc[similar_users].sum(axis=0)\n",
    "        predictions = predictions[predictions!=0]\n",
    "        unseen_items = list(set(predictions.index) - set(itemsPerUser[user]))\n",
    "        predictions_unseen = predictions[unseen_items]\n",
    "        \n",
    "        # Select top-k items\n",
    "        top_k_items = predictions.nlargest(k).index.tolist()\n",
    "        top_k_items_unseen = predictions_unseen.nlargest(k).index.tolist()\n",
    "        \n",
    "        # Compute precision and recall\n",
    "        recalls.append(recall_at_k(actual_items, top_k_items, k))\n",
    "        precisions.append(precision_at_k(actual_items, top_k_items, k))\n",
    "        if len(actual_items_unseen)!=0:\n",
    "            recalls_unseen.append(recall_at_k(actual_items_unseen, top_k_items_unseen, k))\n",
    "            precisions_unseen.append(precision_at_k(actual_items_unseen, top_k_items_unseen, k))\n",
    "    \n",
    "    return {\n",
    "        f'Precision@{k}': np.mean(precisions),\n",
    "        f'Recall@{k}': np.mean(recalls),\n",
    "        f'Precision@{k} on unseen': np.mean(precisions_unseen),\n",
    "        f'Recall@{k} on unseen': np.mean(recalls_unseen),\n",
    "    }"
   ]
  },
  {
   "cell_type": "code",
   "execution_count": 171,
   "id": "b926b490297c1ef9",
   "metadata": {
    "ExecuteTime": {
     "end_time": "2024-11-25T20:32:11.978439Z",
     "start_time": "2024-11-25T20:32:11.975959Z"
    }
   },
   "outputs": [
    {
     "name": "stdout",
     "output_type": "stream",
     "text": [
      "{'Precision@1': 0.3340832395950506, 'Recall@1': 0.30273331996386854, 'Precision@1 on unseen': 0.0, 'Recall@1 on unseen': 0.0}\n",
      "{'Precision@5': 0.08053993250843644, 'Recall@5': 0.3400933843558745, 'Precision@5 on unseen': 0.0009966777408637875, 'Recall@5 on unseen': 0.002558139534883721}\n",
      "{'Precision@10': 0.04173228346456693, 'Recall@10': 0.34427281322596703, 'Precision@10 on unseen': 0.0009966777408637873, 'Recall@10 on unseen': 0.0062126245847176085}\n",
      "{'Precision@20': 0.021766029246344205, 'Recall@20': 0.348719609243348, 'Precision@20 on unseen': 0.0005813953488372094, 'Recall@20 on unseen': 0.006295681063122924}\n",
      "{'Precision@50': 0.009156355455568055, 'Recall@50': 0.34993121601227506, 'Precision@50 on unseen': 0.0002325581395348837, 'Recall@50 on unseen': 0.006295681063122924}\n"
     ]
    }
   ],
   "source": [
    "for k in [1,5,10,20,50]:\n",
    "    print(evaluate_user_collaborative(test_interactions, k=k))"
   ]
  },
  {
   "cell_type": "markdown",
   "id": "e4709b9c",
   "metadata": {},
   "source": [
    "## Item item collaborative Filtering"
   ]
  },
  {
   "cell_type": "code",
   "execution_count": 172,
   "id": "a1343bbc",
   "metadata": {},
   "outputs": [],
   "source": [
    "sparse_item_wise_df = sparse.csr_matrix(user_wise_df.T) \n",
    "item_similarities = cosine_similarity(sparse_item_wise_df, dense_output=False)"
   ]
  },
  {
   "cell_type": "code",
   "execution_count": 173,
   "id": "903f5470",
   "metadata": {},
   "outputs": [],
   "source": [
    "def evaluate_item_collaborative(test_interactions, k=10):\n",
    "    recalls = []\n",
    "    precisions = []\n",
    "    recalls_unseen = []\n",
    "    precisions_unseen = []\n",
    "    \n",
    "    for user, actual_items, actual_items_unseen in zip(test_interactions['visitorid'], \n",
    "                                                           test_interactions['actual_items'], \n",
    "                                                           test_interactions['actual_items_unseen']):\n",
    "        seen_items = itemsPerUser[user]  \n",
    "        \n",
    "        # Generate predictions\n",
    "        predictions = pd.Series(dtype=float)\n",
    "        for item in seen_items:\n",
    "            specific_item_index = item_id_to_index[item]\n",
    "            item_similarities_row = item_similarities[specific_item_index].toarray().flatten()\n",
    "            \n",
    "            # Aggregate scores for items similar to the current item\n",
    "            similar_item_indices = np.argsort(item_similarities_row)[-10:]  # Top 10 similar items\n",
    "            for idx in similar_item_indices:\n",
    "                similar_item = index_to_item_id[idx]\n",
    "                if similar_item not in predictions:\n",
    "                    predictions[similar_item] = 0\n",
    "                predictions[similar_item] += item_similarities_row[idx]\n",
    "        \n",
    "        # Exclude items the user has already interacted with for unseen predictions\n",
    "        unseen_items = list(set(predictions.index) - set(seen_items))\n",
    "        predictions_unseen = predictions.loc[unseen_items]\n",
    "        \n",
    "        # Select top-k items\n",
    "        top_k_items = predictions.nlargest(k).index.tolist()\n",
    "        top_k_items_unseen = predictions_unseen.nlargest(k).index.tolist()\n",
    "        \n",
    "        # Compute precision and recall\n",
    "        recalls.append(recall_at_k(actual_items, top_k_items, k))\n",
    "        precisions.append(precision_at_k(actual_items, top_k_items, k))\n",
    "        if len(actual_items_unseen) != 0:\n",
    "            recalls_unseen.append(recall_at_k(actual_items_unseen, top_k_items_unseen, k))\n",
    "            precisions_unseen.append(precision_at_k(actual_items_unseen, top_k_items_unseen, k))\n",
    "    \n",
    "    return {\n",
    "        f'Precision@{k}': np.mean(precisions),\n",
    "        f'Recall@{k}': np.mean(recalls),\n",
    "        f'Precision@{k} on unseen': np.mean(precisions_unseen),\n",
    "        f'Recall@{k} on unseen': np.mean(recalls_unseen),\n",
    "    }"
   ]
  },
  {
   "cell_type": "code",
   "execution_count": 174,
   "id": "a0122d48",
   "metadata": {},
   "outputs": [
    {
     "name": "stdout",
     "output_type": "stream",
     "text": [
      "{'Precision@1': 0.312710911136108, 'Recall@1': 0.2877448354669952, 'Precision@1 on unseen': 0.011627906976744186, 'Recall@1 on unseen': 0.005592469545957917}\n",
      "{'Precision@5': 0.0827896512935883, 'Recall@5': 0.3504008021724557, 'Precision@5 on unseen': 0.009634551495016613, 'Recall@5 on unseen': 0.027948504983388703}\n",
      "{'Precision@10': 0.04488188976377953, 'Recall@10': 0.36637081052970605, 'Precision@10 on unseen': 0.006644518272425249, 'Recall@10 on unseen': 0.041791251384274634}\n",
      "{'Precision@20': 0.023172103487064118, 'Recall@20': 0.3696254882974273, 'Precision@20 on unseen': 0.00398671096345515, 'Recall@20 on unseen': 0.04331180017226529}\n",
      "{'Precision@50': 0.009943757030371203, 'Recall@50': 0.3752370353834019, 'Precision@50 on unseen': 0.0018604651162790697, 'Recall@50 on unseen': 0.04779235484296628}\n"
     ]
    }
   ],
   "source": [
    "for k in [1,5,10,20,50]:\n",
    "    print(evaluate_item_collaborative(test_interactions, k=k))"
   ]
  },
  {
   "cell_type": "markdown",
   "id": "f1a8f97d",
   "metadata": {},
   "source": [
    "## Singular Value decomoposition"
   ]
  },
  {
   "cell_type": "code",
   "execution_count": 175,
   "id": "2b8d7131",
   "metadata": {},
   "outputs": [],
   "source": [
    "from scipy.sparse.linalg import svds \n",
    "# Singular Value Decomposition\n",
    "U, s, Vt = svds(sparse_user_wise_df, k = 50) # k is the number of latent features\n",
    "\n",
    "# Construct diagonal array in SVD\n",
    "sigma = np.diag(s)\n",
    "predicted_interactions = np.dot(np.dot(U, sigma), Vt) "
   ]
  },
  {
   "cell_type": "code",
   "execution_count": 176,
   "id": "e2620e7d",
   "metadata": {},
   "outputs": [],
   "source": [
    "def evaluate_svd(test_interactions,k=10):\n",
    "    recalls = []\n",
    "    precisions = []\n",
    "    recalls_unseen = []\n",
    "    precisions_unseen = []\n",
    "    \n",
    "    \n",
    "    for user, actual_items, actual_items_unseen in zip(test_interactions['visitorid'], test_interactions['actual_items'], test_interactions['actual_items_unseen']):\n",
    "        specific_user_index = user_id_to_index[user]\n",
    "\n",
    "        # Vectorized prediction for unseen items\n",
    "        predictions = predicted_interactions[specific_user_index]\n",
    "        seen_items = [item_id_to_index[id] for id in itemsPerUser[user]]\n",
    "        predictions_unseen = [v for i,v in enumerate(predictions) if i not in seen_items]\n",
    "        predictions = np.argsort(predictions)[-k:][::-1]\n",
    "        predictions_unseen = np.argsort(predictions_unseen)[-k:][::-1]\n",
    "        \n",
    "        # Select top-k items\n",
    "        top_k_items = [index_to_item_id[pred] for pred in predictions]\n",
    "        top_k_items_unseen = [index_to_item_id[pred] for pred in predictions_unseen]\n",
    "        \n",
    "        # Compute precision and recall\n",
    "        recalls.append(recall_at_k(actual_items, top_k_items, k))\n",
    "        precisions.append(precision_at_k(actual_items, top_k_items, k))\n",
    "        if len(actual_items_unseen)!=0:\n",
    "            recalls_unseen.append(recall_at_k(actual_items_unseen, top_k_items_unseen, k))\n",
    "            precisions_unseen.append(precision_at_k(actual_items_unseen, top_k_items_unseen, k))\n",
    "    \n",
    "    return {\n",
    "        f'Precision@{k}': np.mean(precisions),\n",
    "        f'Recall@{k}': np.mean(recalls),\n",
    "        f'Precision@{k} on unseen': np.mean(precisions_unseen),\n",
    "        f'Recall@{k} on unseen': np.mean(recalls_unseen)}"
   ]
  },
  {
   "cell_type": "code",
   "execution_count": 177,
   "id": "b4db8b81",
   "metadata": {},
   "outputs": [
    {
     "name": "stdout",
     "output_type": "stream",
     "text": [
      "{'Precision@1': 0.07086614173228346, 'Recall@1': 0.05615159649703595, 'Precision@1 on unseen': 0.011627906976744186, 'Recall@1 on unseen': 0.006730650916697429}\n",
      "{'Precision@5': 0.02249718785151856, 'Recall@5': 0.08523748784537476, 'Precision@5 on unseen': 0.004983388704318937, 'Recall@5 on unseen': 0.015727773744909607}\n",
      "{'Precision@10': 0.015185601799775027, 'Recall@10': 0.10810644832171178, 'Precision@10 on unseen': 0.002990033222591362, 'Recall@10 on unseen': 0.017758882171366872}\n",
      "{'Precision@20': 0.009392575928009, 'Recall@20': 0.12946307125160952, 'Precision@20 on unseen': 0.0020764119601328905, 'Recall@20 on unseen': 0.026705667739939466}\n",
      "{'Precision@50': 0.005309336332958381, 'Recall@50': 0.17765943953758645, 'Precision@50 on unseen': 0.0011960132890365448, 'Recall@50 on unseen': 0.03747029071386476}\n"
     ]
    }
   ],
   "source": [
    "for k in [1,5,10,20,50]:\n",
    "    print(evaluate_svd(test_interactions,k))"
   ]
  },
  {
   "cell_type": "markdown",
   "id": "342e6868",
   "metadata": {},
   "source": [
    "## Removing duplicate events , but weighing the events"
   ]
  },
  {
   "cell_type": "code",
   "execution_count": 178,
   "id": "9fb79ab6e2ba750d",
   "metadata": {
    "ExecuteTime": {
     "end_time": "2024-11-25T20:32:17.945420Z",
     "start_time": "2024-11-25T20:32:17.942439Z"
    }
   },
   "outputs": [],
   "source": [
    "event_map={'view':1, 'addtocart':2, 'transaction':3}\n",
    "train_interactions = interactions[['visitorid','itemid','event']]\n",
    "train_interactions = train_interactions.drop_duplicates()\n",
    "train_interactions['weight'] = train_interactions['event'].apply(lambda x:event_map[x])\n",
    "train_interactions = train_interactions.sort_values(by=['visitorid','itemid','weight'], ascending=[True, True, False])\n",
    "train_interactions = train_interactions.drop_duplicates(subset=['visitorid','itemid'], keep='first')\n"
   ]
  },
  {
   "cell_type": "markdown",
   "id": "45210ac5",
   "metadata": {},
   "source": [
    "### User-user collaborative"
   ]
  },
  {
   "cell_type": "code",
   "execution_count": 179,
   "id": "9c2eb59cf9f4bcc6",
   "metadata": {},
   "outputs": [],
   "source": [
    "user_wise_df = train_interactions.pivot(index='visitorid', columns='itemid', values='weight').fillna(0)\n",
    "sparse_user_wise_df = sparse.csr_matrix(user_wise_df )\n",
    "similarities = cosine_similarity(sparse_user_wise_df,dense_output=False)"
   ]
  },
  {
   "cell_type": "code",
   "execution_count": 180,
   "id": "5359a0cd",
   "metadata": {},
   "outputs": [
    {
     "name": "stdout",
     "output_type": "stream",
     "text": [
      "{'Precision@1': 0.3228346456692913, 'Recall@1': 0.2949885728569643, 'Precision@1 on unseen': 0.008305647840531562, 'Recall@1 on unseen': 0.0054490083559851}\n",
      "{'Precision@5': 0.08233970753655792, 'Recall@5': 0.34256559259118996, 'Precision@5 on unseen': 0.0023255813953488376, 'Recall@5 on unseen': 0.006487214336051545}\n",
      "{'Precision@10': 0.04274465691788527, 'Recall@10': 0.34679475615692923, 'Precision@10 on unseen': 0.0016611295681063123, 'Recall@10 on unseen': 0.010141699385885432}\n",
      "{'Precision@20': 0.021822272215973, 'Recall@20': 0.35067503410919815, 'Precision@20 on unseen': 0.0009136212624584718, 'Recall@20 on unseen': 0.010169854124327913}\n",
      "{'Precision@50': 0.009223847019122608, 'Recall@50': 0.35250533494821673, 'Precision@50 on unseen': 0.00046511627906976747, 'Recall@50 on unseen': 0.012098610122851352}\n"
     ]
    }
   ],
   "source": [
    "for k in [1,5,10,20,50]:\n",
    "    print(evaluate_user_collaborative(test_interactions, k=k))"
   ]
  },
  {
   "cell_type": "markdown",
   "id": "aba7115a",
   "metadata": {},
   "source": [
    "### Item-item collaborative"
   ]
  },
  {
   "cell_type": "code",
   "execution_count": 181,
   "id": "79dc7b60",
   "metadata": {},
   "outputs": [],
   "source": [
    "sparse_item_wise_df = sparse.csr_matrix(user_wise_df.T )\n",
    "item_similarities = cosine_similarity(sparse_item_wise_df,dense_output=False)"
   ]
  },
  {
   "cell_type": "code",
   "execution_count": 182,
   "id": "3f0b8cbc",
   "metadata": {},
   "outputs": [
    {
     "name": "stdout",
     "output_type": "stream",
     "text": [
      "{'Precision@1': 0.31833520809898763, 'Recall@1': 0.2905352412745642, 'Precision@1 on unseen': 0.014950166112956811, 'Recall@1 on unseen': 0.008084163898117386}\n",
      "{'Precision@5': 0.08188976377952754, 'Recall@5': 0.34516814430454257, 'Precision@5 on unseen': 0.008305647840531562, 'Recall@5 on unseen': 0.02004825185888309}\n",
      "{'Precision@10': 0.043869516310461196, 'Recall@10': 0.3602970161825708, 'Precision@10 on unseen': 0.006312292358803987, 'Recall@10 on unseen': 0.03401231105550043}\n",
      "{'Precision@20': 0.023003374578177728, 'Recall@20': 0.36435121860386616, 'Precision@20 on unseen': 0.0034883720930232558, 'Recall@20 on unseen': 0.03543119256159123}\n",
      "{'Precision@50': 0.009943757030371203, 'Recall@50': 0.3682150283103213, 'Precision@50 on unseen': 0.0017607973421926912, 'Recall@50 on unseen': 0.03810046727317174}\n"
     ]
    }
   ],
   "source": [
    "for k in [1,5,10,20,50]:\n",
    "    print(evaluate_item_collaborative(test_interactions, k=k))"
   ]
  },
  {
   "cell_type": "markdown",
   "id": "5558bae6",
   "metadata": {},
   "source": [
    "### SVD"
   ]
  },
  {
   "cell_type": "code",
   "execution_count": 162,
   "id": "08a588e8",
   "metadata": {},
   "outputs": [],
   "source": [
    "U, s, Vt = svds(sparse_user_wise_df, k = 50) \n",
    "sigma = np.diag(s)\n",
    "predicted_interactions = np.dot(np.dot(U, sigma), Vt) "
   ]
  },
  {
   "cell_type": "code",
   "execution_count": 167,
   "id": "5b9f033a",
   "metadata": {},
   "outputs": [
    {
     "name": "stdout",
     "output_type": "stream",
     "text": [
      "{'Precision@1': 0.07311586051743532, 'Recall@1': 0.0627992523661815, 'Precision@1 on unseen': 0.008305647840531562, 'Recall@1 on unseen': 0.006367663344407531}\n",
      "{'Precision@5': 0.024296962879640047, 'Recall@5': 0.09284050532644458, 'Precision@5 on unseen': 0.0033222591362126247, 'Recall@5 on unseen': 0.011955099164401491}\n",
      "{'Precision@10': 0.015635545556805398, 'Recall@10': 0.11392385270362301, 'Precision@10 on unseen': 0.001993355481727575, 'Recall@10 on unseen': 0.013646990391176436}\n",
      "{'Precision@20': 0.010123734533183352, 'Recall@20': 0.14168945755906118, 'Precision@20 on unseen': 0.0015780730897009966, 'Recall@20 on unseen': 0.018842233301282846}\n",
      "{'Precision@50': 0.005601799775028122, 'Recall@50': 0.1835851739194559, 'Precision@50 on unseen': 0.0010963455149501661, 'Recall@50 on unseen': 0.030438828147571692}\n"
     ]
    }
   ],
   "source": [
    "for k in [1,5,10,20,50]:\n",
    "    print(evaluate_svd(test_interactions, k=k))"
   ]
  },
  {
   "cell_type": "code",
   "execution_count": null,
   "id": "8d15957d",
   "metadata": {},
   "outputs": [],
   "source": []
  }
 ],
 "metadata": {
  "kernelspec": {
   "display_name": "Python 3",
   "language": "python",
   "name": "python3"
  },
  "language_info": {
   "codemirror_mode": {
    "name": "ipython",
    "version": 3
   },
   "file_extension": ".py",
   "mimetype": "text/x-python",
   "name": "python",
   "nbconvert_exporter": "python",
   "pygments_lexer": "ipython3",
   "version": "3.11.4"
  }
 },
 "nbformat": 4,
 "nbformat_minor": 5
}
